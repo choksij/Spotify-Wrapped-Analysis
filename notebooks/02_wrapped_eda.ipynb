{
 "cells": [
  {
   "cell_type": "markdown",
   "id": "9bd58001",
   "metadata": {},
   "source": [
    "# 02_wrapped_eda.ipynb\n",
    "\n",
    "Exploratory Data Analysis on your “Spotify Wrapped” data:\n",
    "- Profile summary  \n",
    "- Top tracks & listen counts  \n",
    "- Temporal listening patterns  \n",
    "- Saved songs overview  \n",
    "- Playlist usage  \n"
   ]
  },
  {
   "cell_type": "code",
   "execution_count": 1,
   "id": "7480af56",
   "metadata": {},
   "outputs": [],
   "source": [
    "import plotly.io as pio\n",
    "# open the chart in your browser instead of inline\n",
    "pio.renderers.default = \"browser\"\n"
   ]
  },
  {
   "cell_type": "code",
   "execution_count": 2,
   "id": "95780bd2",
   "metadata": {},
   "outputs": [],
   "source": [
    "# Cell 1 — Setup imports & paths\n",
    "import sys\n",
    "from pathlib import Path\n",
    "\n",
    "# Ensure src/ is on the path for any shared utilities\n",
    "repo_root = Path.cwd()\n",
    "sys.path.append(str(repo_root / \"src\"))\n",
    "\n",
    "import pandas as pd\n",
    "import plotly.express as px\n",
    "\n",
    "# Notebook display settings\n",
    "pd.set_option(\"display.max_columns\", 30)\n",
    "pd.set_option(\"display.max_rows\", 10)\n",
    "\n",
    "# Convenience\n",
    "interim = repo_root / \"data\" / \"interim\"\n"
   ]
  },
  {
   "cell_type": "code",
   "execution_count": 3,
   "id": "38f50185",
   "metadata": {},
   "outputs": [
    {
     "name": "stdout",
     "output_type": "stream",
     "text": [
      "📁 project root is: c:\\Users\\choks\\OneDrive\\Desktop\\spotify-wrapped-analysis\n",
      "✅ src on PYTHONPATH? → True\n"
     ]
    }
   ],
   "source": [
    "# ─── cell 1: bootstrap the repo so `import src…` works ──────────────────────\n",
    "import sys\n",
    "from pathlib import Path\n",
    "\n",
    "# assume this notebook lives in <project_root>/notebooks/\n",
    "project_root = Path.cwd().parent   # up one from notebooks/\n",
    "sys.path.insert(0, str(project_root))\n",
    "\n",
    "print(\"📁 project root is:\", project_root)\n",
    "print(\"✅ src on PYTHONPATH? →\", (project_root / \"src\").exists())\n",
    "\n",
    "# now you can import your utils\n",
    "from src.preprocessing.utils import get_project_root\n"
   ]
  },
  {
   "cell_type": "code",
   "execution_count": 4,
   "id": "303d1914",
   "metadata": {},
   "outputs": [],
   "source": [
    "# ─── cell 2: load all your interim CSVs ────────────────────────────────────\n",
    "proj_root = get_project_root()\n",
    "interim   = proj_root / \"data\" / \"interim\"\n",
    "\n",
    "df_top       = pd.read_csv(interim / \"top_tracks.csv\",     parse_dates=[\"album_date\"])\n",
    "df_recent    = pd.read_csv(interim / \"recently_played.csv\", parse_dates=[\"played_at\"])\n",
    "df_saved     = pd.read_csv(interim / \"saved_tracks.csv\",    parse_dates=[\"saved_at\"])\n",
    "df_profile   = pd.read_csv(interim / \"user_profile.csv\")\n",
    "df_playlists = pd.read_csv(interim / \"user_playlists.csv\")\n",
    "df_pl_tracks = pd.read_csv(interim / \"playlist_tracks_top3.csv\", parse_dates=[\"added_at\"])\n"
   ]
  },
  {
   "cell_type": "markdown",
   "id": "1f8c72f3",
   "metadata": {},
   "source": [
    "### 1. User Profile\n",
    "Basic account info fetched once.\n"
   ]
  },
  {
   "cell_type": "code",
   "execution_count": 5,
   "id": "b2934d66",
   "metadata": {},
   "outputs": [
    {
     "data": {
      "text/html": [
       "<div>\n",
       "<style scoped>\n",
       "    .dataframe tbody tr th:only-of-type {\n",
       "        vertical-align: middle;\n",
       "    }\n",
       "\n",
       "    .dataframe tbody tr th {\n",
       "        vertical-align: top;\n",
       "    }\n",
       "\n",
       "    .dataframe thead th {\n",
       "        text-align: right;\n",
       "    }\n",
       "</style>\n",
       "<table border=\"1\" class=\"dataframe\">\n",
       "  <thead>\n",
       "    <tr style=\"text-align: right;\">\n",
       "      <th></th>\n",
       "      <th>value</th>\n",
       "    </tr>\n",
       "  </thead>\n",
       "  <tbody>\n",
       "    <tr>\n",
       "      <th>country</th>\n",
       "      <td>US</td>\n",
       "    </tr>\n",
       "    <tr>\n",
       "      <th>display_name</th>\n",
       "      <td>Jeet</td>\n",
       "    </tr>\n",
       "    <tr>\n",
       "      <th>href</th>\n",
       "      <td>https://api.spotify.com/v1/users/31cny4wvswa3z...</td>\n",
       "    </tr>\n",
       "    <tr>\n",
       "      <th>id</th>\n",
       "      <td>31cny4wvswa3zmq25ccg6w2masi4</td>\n",
       "    </tr>\n",
       "    <tr>\n",
       "      <th>images</th>\n",
       "      <td>[]</td>\n",
       "    </tr>\n",
       "    <tr>\n",
       "      <th>...</th>\n",
       "      <td>...</td>\n",
       "    </tr>\n",
       "    <tr>\n",
       "      <th>explicit_content.filter_enabled</th>\n",
       "      <td>False</td>\n",
       "    </tr>\n",
       "    <tr>\n",
       "      <th>explicit_content.filter_locked</th>\n",
       "      <td>False</td>\n",
       "    </tr>\n",
       "    <tr>\n",
       "      <th>external_urls.spotify</th>\n",
       "      <td>https://open.spotify.com/user/31cny4wvswa3zmq2...</td>\n",
       "    </tr>\n",
       "    <tr>\n",
       "      <th>followers.href</th>\n",
       "      <td>NaN</td>\n",
       "    </tr>\n",
       "    <tr>\n",
       "      <th>followers.total</th>\n",
       "      <td>0</td>\n",
       "    </tr>\n",
       "  </tbody>\n",
       "</table>\n",
       "<p>13 rows × 1 columns</p>\n",
       "</div>"
      ],
      "text/plain": [
       "                                                                             value\n",
       "country                                                                         US\n",
       "display_name                                                                  Jeet\n",
       "href                             https://api.spotify.com/v1/users/31cny4wvswa3z...\n",
       "id                                                    31cny4wvswa3zmq25ccg6w2masi4\n",
       "images                                                                          []\n",
       "...                                                                            ...\n",
       "explicit_content.filter_enabled                                              False\n",
       "explicit_content.filter_locked                                               False\n",
       "external_urls.spotify            https://open.spotify.com/user/31cny4wvswa3zmq2...\n",
       "followers.href                                                                 NaN\n",
       "followers.total                                                                  0\n",
       "\n",
       "[13 rows x 1 columns]"
      ]
     },
     "metadata": {},
     "output_type": "display_data"
    }
   ],
   "source": [
    "# Cell 3 — Display key profile fields\n",
    "profile = df_profile.iloc[0]\n",
    "display(pd.DataFrame(profile).rename(columns={0: \"value\"}))"
   ]
  },
  {
   "cell_type": "markdown",
   "id": "e969526d",
   "metadata": {},
   "source": [
    "### 2. Top Tracks\n",
    "Your all-time top tracks (by Spotify’s popularity) captured in the period.\n"
   ]
  },
  {
   "cell_type": "code",
   "execution_count": 6,
   "id": "50c89068",
   "metadata": {},
   "outputs": [
    {
     "name": "stdout",
     "output_type": "stream",
     "text": [
      "Top tracks count: 100\n"
     ]
    },
    {
     "data": {
      "text/html": [
       "<div>\n",
       "<style scoped>\n",
       "    .dataframe tbody tr th:only-of-type {\n",
       "        vertical-align: middle;\n",
       "    }\n",
       "\n",
       "    .dataframe tbody tr th {\n",
       "        vertical-align: top;\n",
       "    }\n",
       "\n",
       "    .dataframe thead th {\n",
       "        text-align: right;\n",
       "    }\n",
       "</style>\n",
       "<table border=\"1\" class=\"dataframe\">\n",
       "  <thead>\n",
       "    <tr style=\"text-align: right;\">\n",
       "      <th></th>\n",
       "      <th>track_id</th>\n",
       "      <th>track_name</th>\n",
       "      <th>album</th>\n",
       "      <th>album_date</th>\n",
       "      <th>popularity</th>\n",
       "      <th>explicit</th>\n",
       "      <th>duration_ms</th>\n",
       "      <th>artists</th>\n",
       "    </tr>\n",
       "  </thead>\n",
       "  <tbody>\n",
       "    <tr>\n",
       "      <th>0</th>\n",
       "      <td>1jKXjxMWlq4BhH6f9GtZbu</td>\n",
       "      <td>TORE UP</td>\n",
       "      <td>HARDSTONE PSYCHO</td>\n",
       "      <td>2024-06-14</td>\n",
       "      <td>83</td>\n",
       "      <td>True</td>\n",
       "      <td>126986</td>\n",
       "      <td>Don Toliver</td>\n",
       "    </tr>\n",
       "    <tr>\n",
       "      <th>1</th>\n",
       "      <td>3vkCueOmm7xQDoJ17W1Pm3</td>\n",
       "      <td>My Love Mine All Mine</td>\n",
       "      <td>The Land Is Inhospitable and So Are We</td>\n",
       "      <td>2023-09-15</td>\n",
       "      <td>89</td>\n",
       "      <td>False</td>\n",
       "      <td>137773</td>\n",
       "      <td>Mitski</td>\n",
       "    </tr>\n",
       "    <tr>\n",
       "      <th>2</th>\n",
       "      <td>3xgA3KSsd8mt3UjQxNtQy3</td>\n",
       "      <td>Bajrang Baan-Lofi</td>\n",
       "      <td>Bajrang Baan-Lofi</td>\n",
       "      <td>2023-01-05</td>\n",
       "      <td>72</td>\n",
       "      <td>False</td>\n",
       "      <td>218009</td>\n",
       "      <td>Rasraj Ji Maharaj</td>\n",
       "    </tr>\n",
       "    <tr>\n",
       "      <th>3</th>\n",
       "      <td>6J4oLY2GEwOsUgEd50IpKy</td>\n",
       "      <td>Baarish Ka Asar</td>\n",
       "      <td>Baarish Ka Asar</td>\n",
       "      <td>2020-12-09</td>\n",
       "      <td>53</td>\n",
       "      <td>False</td>\n",
       "      <td>245500</td>\n",
       "      <td>Twin Strings</td>\n",
       "    </tr>\n",
       "    <tr>\n",
       "      <th>4</th>\n",
       "      <td>0Qa9pTZLUC95wJCHGYMIg4</td>\n",
       "      <td>Sajdaa</td>\n",
       "      <td>My Name Is Khan (Original Motion Picture Sound...</td>\n",
       "      <td>2010</td>\n",
       "      <td>66</td>\n",
       "      <td>False</td>\n",
       "      <td>365706</td>\n",
       "      <td>Shankar-Ehsaan-Loy, Rahat Fateh Ali Khan, Shan...</td>\n",
       "    </tr>\n",
       "  </tbody>\n",
       "</table>\n",
       "</div>"
      ],
      "text/plain": [
       "                 track_id             track_name  \\\n",
       "0  1jKXjxMWlq4BhH6f9GtZbu                TORE UP   \n",
       "1  3vkCueOmm7xQDoJ17W1Pm3  My Love Mine All Mine   \n",
       "2  3xgA3KSsd8mt3UjQxNtQy3      Bajrang Baan-Lofi   \n",
       "3  6J4oLY2GEwOsUgEd50IpKy        Baarish Ka Asar   \n",
       "4  0Qa9pTZLUC95wJCHGYMIg4                 Sajdaa   \n",
       "\n",
       "                                               album  album_date  popularity  \\\n",
       "0                                   HARDSTONE PSYCHO  2024-06-14          83   \n",
       "1             The Land Is Inhospitable and So Are We  2023-09-15          89   \n",
       "2                                  Bajrang Baan-Lofi  2023-01-05          72   \n",
       "3                                    Baarish Ka Asar  2020-12-09          53   \n",
       "4  My Name Is Khan (Original Motion Picture Sound...        2010          66   \n",
       "\n",
       "   explicit  duration_ms                                            artists  \n",
       "0      True       126986                                        Don Toliver  \n",
       "1     False       137773                                             Mitski  \n",
       "2     False       218009                                  Rasraj Ji Maharaj  \n",
       "3     False       245500                                       Twin Strings  \n",
       "4     False       365706  Shankar-Ehsaan-Loy, Rahat Fateh Ali Khan, Shan...  "
      ]
     },
     "execution_count": 6,
     "metadata": {},
     "output_type": "execute_result"
    }
   ],
   "source": [
    "# Cell 4 — Shape & sample\n",
    "print(\"Top tracks count:\", len(df_top))\n",
    "df_top.head()\n"
   ]
  },
  {
   "cell_type": "code",
   "execution_count": 7,
   "id": "c57a8882",
   "metadata": {},
   "outputs": [
    {
     "name": "stdout",
     "output_type": "stream",
     "text": [
      "Requirement already satisfied: nbformat in c:\\users\\choks\\onedrive\\desktop\\spotify-wrapped-analysis\\venv\\lib\\site-packages (5.10.4)\n",
      "Requirement already satisfied: fastjsonschema>=2.15 in c:\\users\\choks\\onedrive\\desktop\\spotify-wrapped-analysis\\venv\\lib\\site-packages (from nbformat) (2.21.1)\n",
      "Requirement already satisfied: jsonschema>=2.6 in c:\\users\\choks\\onedrive\\desktop\\spotify-wrapped-analysis\\venv\\lib\\site-packages (from nbformat) (4.23.0)\n",
      "Requirement already satisfied: jupyter-core!=5.0.*,>=4.12 in c:\\users\\choks\\onedrive\\desktop\\spotify-wrapped-analysis\\venv\\lib\\site-packages (from nbformat) (5.7.2)\n",
      "Requirement already satisfied: traitlets>=5.1 in c:\\users\\choks\\onedrive\\desktop\\spotify-wrapped-analysis\\venv\\lib\\site-packages (from nbformat) (5.14.3)\n",
      "Requirement already satisfied: attrs>=22.2.0 in c:\\users\\choks\\onedrive\\desktop\\spotify-wrapped-analysis\\venv\\lib\\site-packages (from jsonschema>=2.6->nbformat) (25.3.0)\n",
      "Requirement already satisfied: jsonschema-specifications>=2023.03.6 in c:\\users\\choks\\onedrive\\desktop\\spotify-wrapped-analysis\\venv\\lib\\site-packages (from jsonschema>=2.6->nbformat) (2025.4.1)\n",
      "Requirement already satisfied: referencing>=0.28.4 in c:\\users\\choks\\onedrive\\desktop\\spotify-wrapped-analysis\\venv\\lib\\site-packages (from jsonschema>=2.6->nbformat) (0.36.2)\n",
      "Requirement already satisfied: rpds-py>=0.7.1 in c:\\users\\choks\\onedrive\\desktop\\spotify-wrapped-analysis\\venv\\lib\\site-packages (from jsonschema>=2.6->nbformat) (0.24.0)\n",
      "Requirement already satisfied: platformdirs>=2.5 in c:\\users\\choks\\onedrive\\desktop\\spotify-wrapped-analysis\\venv\\lib\\site-packages (from jupyter-core!=5.0.*,>=4.12->nbformat) (4.3.7)\n",
      "Requirement already satisfied: pywin32>=300 in c:\\users\\choks\\onedrive\\desktop\\spotify-wrapped-analysis\\venv\\lib\\site-packages (from jupyter-core!=5.0.*,>=4.12->nbformat) (310)\n",
      "Requirement already satisfied: typing-extensions>=4.4.0 in c:\\users\\choks\\onedrive\\desktop\\spotify-wrapped-analysis\\venv\\lib\\site-packages (from referencing>=0.28.4->jsonschema>=2.6->nbformat) (4.13.2)\n",
      "Note: you may need to restart the kernel to use updated packages.\n"
     ]
    },
    {
     "name": "stderr",
     "output_type": "stream",
     "text": [
      "\n",
      "[notice] A new release of pip is available: 25.0.1 -> 25.1\n",
      "[notice] To update, run: python.exe -m pip install --upgrade pip\n"
     ]
    }
   ],
   "source": [
    "pip install nbformat"
   ]
  },
  {
   "cell_type": "code",
   "execution_count": 8,
   "id": "111fe5dd",
   "metadata": {},
   "outputs": [],
   "source": [
    "# Cell 5 — Top 10 by Spotify popularity\n",
    "top10 = df_top.nlargest(10, \"popularity\")\n",
    "px.bar(\n",
    "    top10,\n",
    "    x=\"track_name\",\n",
    "    y=\"popularity\",\n",
    "    text=\"popularity\",\n",
    "    title=\"Your Top 10 Tracks (by Spotify Popularity)\",\n",
    ").update_layout(xaxis_tickangle=-45)\n"
   ]
  },
  {
   "cell_type": "markdown",
   "id": "c562edd5",
   "metadata": {},
   "source": [
    "### 3. Listening History\n",
    "Analysis of your recent playback events.\n"
   ]
  },
  {
   "cell_type": "code",
   "execution_count": 9,
   "id": "b8d99c1a",
   "metadata": {},
   "outputs": [
    {
     "name": "stdout",
     "output_type": "stream",
     "text": [
      "Total plays recorded: 100\n",
      "Unique tracks played: 56\n",
      "Unique artists: 50\n"
     ]
    }
   ],
   "source": [
    "# Cell 6 — Basic stats\n",
    "print(\"Total plays recorded:\", len(df_recent))\n",
    "print(\"Unique tracks played:\", df_recent[\"track_id\"].nunique())\n",
    "print(\"Unique artists:\", df_recent[\"artists\"].nunique())\n"
   ]
  },
  {
   "cell_type": "code",
   "execution_count": 10,
   "id": "2c274720",
   "metadata": {},
   "outputs": [],
   "source": [
    "# Cell 7 — Most-played tracks in this sample\n",
    "counts = df_recent[\"track_name\"].value_counts().reset_index()\n",
    "counts.columns = [\"track_name\",\"plays\"]\n",
    "top_played = counts.head(10)\n",
    "px.bar(\n",
    "    top_played,\n",
    "    x=\"track_name\",\n",
    "    y=\"plays\",\n",
    "    text=\"plays\",\n",
    "    title=\"Top 10 Most Played Tracks (recently_played)\",\n",
    ").update_layout(xaxis_tickangle=-45)\n"
   ]
  },
  {
   "cell_type": "markdown",
   "id": "fdd1a747",
   "metadata": {},
   "source": [
    "#### 3.1 Time-of-Day & Day-of-Week Patterns\n"
   ]
  },
  {
   "cell_type": "code",
   "execution_count": 11,
   "id": "7ecf9355",
   "metadata": {},
   "outputs": [],
   "source": [
    "# Cell 8 — Hour of day distribution\n",
    "df_recent[\"hour\"] = df_recent[\"played_at\"].dt.hour\n",
    "px.histogram(\n",
    "    df_recent,\n",
    "    x=\"hour\",\n",
    "    nbins=24,\n",
    "    title=\"Listening by Hour of Day\",\n",
    "    labels={\"hour\":\"Hour (0–23)\"}\n",
    ")\n"
   ]
  },
  {
   "cell_type": "code",
   "execution_count": 12,
   "id": "f5dcb487",
   "metadata": {},
   "outputs": [],
   "source": [
    "# Cell — Listening by Day of Week (fixed)\n",
    "import plotly.express as px\n",
    "\n",
    "# Define the weekday order\n",
    "order = [\"Monday\",\"Tuesday\",\"Wednesday\",\"Thursday\",\"Friday\",\"Saturday\",\"Sunday\"]\n",
    "\n",
    "# 1) Extract day names and count, reindex to ensure correct order\n",
    "counts = (\n",
    "    df_recent[\"played_at\"]\n",
    "    .dt.day_name()\n",
    "    .value_counts()\n",
    "    .reindex(order)\n",
    ")\n",
    "\n",
    "# 2) Turn that Series into a DataFrame with unique columns\n",
    "df_counts = counts.rename_axis(\"weekday\").reset_index(name=\"count\")\n",
    "\n",
    "# 3) Plot\n",
    "fig = px.bar(\n",
    "    df_counts,\n",
    "    x=\"weekday\",\n",
    "    y=\"count\",\n",
    "    title=\"Listening by Day of Week\",\n",
    ")\n",
    "fig.update_layout(xaxis_tickangle=-45)\n",
    "fig.show()\n"
   ]
  },
  {
   "cell_type": "markdown",
   "id": "e9428f93",
   "metadata": {},
   "source": [
    "#### 3.2 Monthly Trend\n"
   ]
  },
  {
   "cell_type": "code",
   "execution_count": 13,
   "id": "1b838249",
   "metadata": {},
   "outputs": [
    {
     "name": "stderr",
     "output_type": "stream",
     "text": [
      "C:\\Users\\choks\\AppData\\Local\\Temp\\ipykernel_64892\\4134344919.py:2: UserWarning:\n",
      "\n",
      "Converting to PeriodArray/Index representation will drop timezone information.\n",
      "\n"
     ]
    }
   ],
   "source": [
    "# Cell 10 — Plays per month\n",
    "df_recent[\"month\"] = df_recent[\"played_at\"].dt.to_period(\"M\").dt.to_timestamp()\n",
    "monthly = df_recent.groupby(\"month\").size().reset_index(name=\"plays\")\n",
    "px.line(\n",
    "    monthly,\n",
    "    x=\"month\",\n",
    "    y=\"plays\",\n",
    "    title=\"Monthly Total Plays\",\n",
    "    markers=True\n",
    ")\n"
   ]
  },
  {
   "cell_type": "markdown",
   "id": "1670b728",
   "metadata": {},
   "source": [
    "### 4. Saved (“Liked”) Songs\n"
   ]
  },
  {
   "cell_type": "code",
   "execution_count": 14,
   "id": "69ab87a2",
   "metadata": {},
   "outputs": [
    {
     "name": "stdout",
     "output_type": "stream",
     "text": [
      "Total saved songs: 50\n",
      "Distinct saved tracks: 50\n"
     ]
    }
   ],
   "source": [
    "# Cell 11 — Saved tracks overview\n",
    "print(\"Total saved songs:\", len(df_saved))\n",
    "print(\"Distinct saved tracks:\", df_saved[\"track_id\"].nunique())\n"
   ]
  },
  {
   "cell_type": "code",
   "execution_count": 15,
   "id": "f182ec5b",
   "metadata": {},
   "outputs": [],
   "source": [
    "# Cell 12 — Top 10 Saved Artists (fixed)\n",
    "import plotly.express as px\n",
    "\n",
    "# 1) Explode your “artists” strings into one artist per row\n",
    "all_artists = df_saved[\"artists\"].str.split(\", \").explode()\n",
    "\n",
    "# 2) Count and take the top 10\n",
    "top10 = all_artists.value_counts().head(10)\n",
    "\n",
    "# 3) Turn that Series into a clean DataFrame with unique column names\n",
    "df_artists = top10.rename_axis(\"artist\").reset_index(name=\"count\")\n",
    "\n",
    "# 4) Plot!\n",
    "fig = px.bar(\n",
    "    df_artists,\n",
    "    x=\"artist\",\n",
    "    y=\"count\",\n",
    "    text=\"count\",\n",
    "    title=\"Top 10 Artists in Your Liked Songs\"\n",
    ")\n",
    "fig.update_layout(xaxis_tickangle=-45, margin=dict(l=40, r=40, t=50, b=40))\n",
    "fig.show()\n"
   ]
  },
  {
   "cell_type": "markdown",
   "id": "7c3e6d3f",
   "metadata": {},
   "source": [
    "### 5. Playlists & Playlist Contents\n"
   ]
  },
  {
   "cell_type": "code",
   "execution_count": 16,
   "id": "88a890d8",
   "metadata": {},
   "outputs": [
    {
     "name": "stdout",
     "output_type": "stream",
     "text": [
      "Total playlists fetched: 2\n"
     ]
    },
    {
     "data": {
      "text/html": [
       "<div>\n",
       "<style scoped>\n",
       "    .dataframe tbody tr th:only-of-type {\n",
       "        vertical-align: middle;\n",
       "    }\n",
       "\n",
       "    .dataframe tbody tr th {\n",
       "        vertical-align: top;\n",
       "    }\n",
       "\n",
       "    .dataframe thead th {\n",
       "        text-align: right;\n",
       "    }\n",
       "</style>\n",
       "<table border=\"1\" class=\"dataframe\">\n",
       "  <thead>\n",
       "    <tr style=\"text-align: right;\">\n",
       "      <th></th>\n",
       "      <th>playlist_id</th>\n",
       "      <th>name</th>\n",
       "      <th>owner</th>\n",
       "      <th>public</th>\n",
       "      <th>tracks_total</th>\n",
       "    </tr>\n",
       "  </thead>\n",
       "  <tbody>\n",
       "    <tr>\n",
       "      <th>0</th>\n",
       "      <td>5R402c0QrsyaHUwZFwEmi9</td>\n",
       "      <td>Bhagwan</td>\n",
       "      <td>Jeet</td>\n",
       "      <td>True</td>\n",
       "      <td>5</td>\n",
       "    </tr>\n",
       "    <tr>\n",
       "      <th>1</th>\n",
       "      <td>7oBzvnRfjDOY3ZN78ejrME</td>\n",
       "      <td>SEXXX</td>\n",
       "      <td>Jeet</td>\n",
       "      <td>False</td>\n",
       "      <td>2</td>\n",
       "    </tr>\n",
       "  </tbody>\n",
       "</table>\n",
       "</div>"
      ],
      "text/plain": [
       "              playlist_id     name owner  public  tracks_total\n",
       "0  5R402c0QrsyaHUwZFwEmi9  Bhagwan  Jeet    True             5\n",
       "1  7oBzvnRfjDOY3ZN78ejrME    SEXXX  Jeet   False             2"
      ]
     },
     "execution_count": 16,
     "metadata": {},
     "output_type": "execute_result"
    }
   ],
   "source": [
    "# Cell 13 — Playlists summary\n",
    "print(\"Total playlists fetched:\", len(df_playlists))\n",
    "df_playlists.head()\n"
   ]
  },
  {
   "cell_type": "code",
   "execution_count": 17,
   "id": "3a766a1f",
   "metadata": {},
   "outputs": [],
   "source": [
    "# Cell 14 — Tracks per playlist (top3 sampled)\n",
    "pl_counts = df_pl_tracks[\"playlist_id\"].value_counts().reset_index()\n",
    "pl_counts.columns = [\"playlist_id\",\"tracks_sampled\"]\n",
    "# Join to get playlist names\n",
    "pl_counts = pl_counts.merge(df_playlists, on=\"playlist_id\", how=\"left\")\n",
    "px.bar(\n",
    "    pl_counts,\n",
    "    x=\"name\",\n",
    "    y=\"tracks_sampled\",\n",
    "    title=\"Number of Tracks Pulled per Playlist (Top 3)\",\n",
    "    text=\"tracks_sampled\"\n",
    ").update_layout(xaxis_tickangle=-45)\n"
   ]
  },
  {
   "cell_type": "markdown",
   "id": "dea4aff6",
   "metadata": {},
   "source": [
    "---\n",
    "\n",
    "✅ **EDA complete!**  \n",
    "You now have insights into your profile, top tracks, listening patterns, saved songs, and playlists.  \n",
    "Next up: feature engineering and modeling.\n"
   ]
  }
 ],
 "metadata": {
  "kernelspec": {
   "display_name": "venv",
   "language": "python",
   "name": "python3"
  },
  "language_info": {
   "codemirror_mode": {
    "name": "ipython",
    "version": 3
   },
   "file_extension": ".py",
   "mimetype": "text/x-python",
   "name": "python",
   "nbconvert_exporter": "python",
   "pygments_lexer": "ipython3",
   "version": "3.11.0"
  }
 },
 "nbformat": 4,
 "nbformat_minor": 5
}
