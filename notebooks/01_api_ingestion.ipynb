{
 "cells": [
  {
   "cell_type": "markdown",
   "id": "be42e7a8",
   "metadata": {},
   "source": [
    "# 01_api_ingestion.ipynb\n",
    "\n",
    "Pulling all Spotify user data endpoints into tidy CSVs for downstream work."
   ]
  },
  {
   "cell_type": "code",
   "execution_count": null,
   "id": "ba5ca5e7",
   "metadata": {},
   "outputs": [],
   "source": [
    "import os, sys, json, logging\n",
    "from pathlib import Path\n",
    "notebooks_dir = Path.cwd()\n",
    "repo_root     = notebooks_dir.parent\n",
    "src_dir       = repo_root / \"src\"\n",
    "sys.path.insert(0, str(src_dir))\n",
    "import pandas as pd\n",
    "\n",
    "from data_ingestion.spotify_client import SpotifyClient\n",
    "from preprocessing.utils      import read_json_dir, read_json_file\n",
    "\n",
    "logging.basicConfig(level=logging.INFO, format=\"%(message)s\")\n",
    "logger = logging.getLogger()"
   ]
  },
  {
   "cell_type": "code",
   "execution_count": null,
   "id": "6af39b26",
   "metadata": {},
   "outputs": [
    {
     "name": "stderr",
     "output_type": "stream",
     "text": [
      "2025-05-05 21:27:07,512 INFO data_ingestion.spotify_client ▶ Authenticated to Spotify with scope=user-top-read user-read-recently-played user-library-read playlist-read-private\n"
     ]
    }
   ],
   "source": [
    "client = SpotifyClient()"
   ]
  },
  {
   "cell_type": "code",
   "execution_count": null,
   "id": "2d637912",
   "metadata": {},
   "outputs": [
    {
     "name": "stderr",
     "output_type": "stream",
     "text": [
      "C:\\Users\\choks\\AppData\\Local\\Programs\\Python\\Python311\\python.exe: can't open file 'c:\\\\Users\\\\choks\\\\OneDrive\\\\Desktop\\\\spotify-wrapped-analysis\\\\notebooks\\\\src\\\\data_ingestion\\\\fetch_data.py': [Errno 2] No such file or directory\n",
      "C:\\Users\\choks\\AppData\\Local\\Programs\\Python\\Python311\\python.exe: can't open file 'c:\\\\Users\\\\choks\\\\OneDrive\\\\Desktop\\\\spotify-wrapped-analysis\\\\notebooks\\\\src\\\\data_ingestion\\\\fetch_data.py': [Errno 2] No such file or directory\n"
     ]
    }
   ],
   "source": [
    "!python src/data_ingestion/fetch_data.py --type top_tracks --time_range medium_term --limit 50\n",
    "!python src/data_ingestion/fetch_data.py --type recently_played --limit 50"
   ]
  },
  {
   "cell_type": "code",
   "execution_count": null,
   "id": "17645ed7",
   "metadata": {},
   "outputs": [
    {
     "name": "stderr",
     "output_type": "stream",
     "text": [
      "C:\\Users\\choks\\AppData\\Local\\Programs\\Python\\Python311\\python.exe: can't open file 'c:\\\\Users\\\\choks\\\\OneDrive\\\\Desktop\\\\spotify-wrapped-analysis\\\\notebooks\\\\src\\\\data_ingestion\\\\fetch_data.py': [Errno 2] No such file or directory\n",
      "C:\\Users\\choks\\AppData\\Local\\Programs\\Python\\Python311\\python.exe: can't open file 'c:\\\\Users\\\\choks\\\\OneDrive\\\\Desktop\\\\spotify-wrapped-analysis\\\\notebooks\\\\src\\\\data_ingestion\\\\fetch_data.py': [Errno 2] No such file or directory\n",
      "C:\\Users\\choks\\AppData\\Local\\Programs\\Python\\Python311\\python.exe: can't open file 'c:\\\\Users\\\\choks\\\\OneDrive\\\\Desktop\\\\spotify-wrapped-analysis\\\\notebooks\\\\src\\\\data_ingestion\\\\fetch_data.py': [Errno 2] No such file or directory\n"
     ]
    }
   ],
   "source": [
    "!python src/data_ingestion/fetch_data.py --type saved_tracks --limit 50\n",
    "!python src/data_ingestion/fetch_data.py --type user_profile\n",
    "!python src/data_ingestion/fetch_data.py --type user_playlists --limit 20"
   ]
  },
  {
   "cell_type": "code",
   "execution_count": null,
   "id": "2acb0127",
   "metadata": {},
   "outputs": [
    {
     "name": "stdout",
     "output_type": "stream",
     "text": [
      "audio_features_50_20250429_191806.json\n",
      "audio_features_50_20250429_194059.json\n",
      "audio_features_50_20250429_194156.json\n",
      "recently_played_50_20250429_153854.json\n",
      "recently_played_50_20250505_204855.json\n",
      "saved_tracks_50_0_20250429_153902.json\n",
      "saved_tracks_50_0_20250505_204856.json\n",
      "top_tracks_medium_term_50_0_20250429_153843.json\n",
      "top_tracks_medium_term_50_0_20250505_204854.json\n",
      "user_playlists_20_0_20250429_153912.json\n",
      "user_playlists_20_0_20250505_204857.json\n",
      "user_profile_20250429_153512.json\n",
      "user_profile_20250505_204857.json\n"
     ]
    }
   ],
   "source": [
    "raw_dir = repo_root / \"data\" / \"raw\" / \"spotify_api\"\n",
    "for p in sorted(raw_dir.glob(\"*.json\")):\n",
    "    print(p.name)"
   ]
  },
  {
   "cell_type": "code",
   "execution_count": null,
   "id": "70f018ce",
   "metadata": {},
   "outputs": [
    {
     "name": "stderr",
     "output_type": "stream",
     "text": [
      "2025-05-05 21:27:44,123 INFO root ▶ Saved top_tracks.csv (100 rows)\n"
     ]
    },
    {
     "data": {
      "text/html": [
       "<div>\n",
       "<style scoped>\n",
       "    .dataframe tbody tr th:only-of-type {\n",
       "        vertical-align: middle;\n",
       "    }\n",
       "\n",
       "    .dataframe tbody tr th {\n",
       "        vertical-align: top;\n",
       "    }\n",
       "\n",
       "    .dataframe thead th {\n",
       "        text-align: right;\n",
       "    }\n",
       "</style>\n",
       "<table border=\"1\" class=\"dataframe\">\n",
       "  <thead>\n",
       "    <tr style=\"text-align: right;\">\n",
       "      <th></th>\n",
       "      <th>track_id</th>\n",
       "      <th>track_name</th>\n",
       "      <th>album</th>\n",
       "      <th>album_date</th>\n",
       "      <th>popularity</th>\n",
       "      <th>explicit</th>\n",
       "      <th>duration_ms</th>\n",
       "      <th>artists</th>\n",
       "    </tr>\n",
       "  </thead>\n",
       "  <tbody>\n",
       "    <tr>\n",
       "      <th>0</th>\n",
       "      <td>1jKXjxMWlq4BhH6f9GtZbu</td>\n",
       "      <td>TORE UP</td>\n",
       "      <td>HARDSTONE PSYCHO</td>\n",
       "      <td>2024-06-14</td>\n",
       "      <td>83</td>\n",
       "      <td>True</td>\n",
       "      <td>126986</td>\n",
       "      <td>Don Toliver</td>\n",
       "    </tr>\n",
       "    <tr>\n",
       "      <th>1</th>\n",
       "      <td>3vkCueOmm7xQDoJ17W1Pm3</td>\n",
       "      <td>My Love Mine All Mine</td>\n",
       "      <td>The Land Is Inhospitable and So Are We</td>\n",
       "      <td>2023-09-15</td>\n",
       "      <td>89</td>\n",
       "      <td>False</td>\n",
       "      <td>137773</td>\n",
       "      <td>Mitski</td>\n",
       "    </tr>\n",
       "    <tr>\n",
       "      <th>2</th>\n",
       "      <td>3xgA3KSsd8mt3UjQxNtQy3</td>\n",
       "      <td>Bajrang Baan-Lofi</td>\n",
       "      <td>Bajrang Baan-Lofi</td>\n",
       "      <td>2023-01-05</td>\n",
       "      <td>72</td>\n",
       "      <td>False</td>\n",
       "      <td>218009</td>\n",
       "      <td>Rasraj Ji Maharaj</td>\n",
       "    </tr>\n",
       "    <tr>\n",
       "      <th>3</th>\n",
       "      <td>6J4oLY2GEwOsUgEd50IpKy</td>\n",
       "      <td>Baarish Ka Asar</td>\n",
       "      <td>Baarish Ka Asar</td>\n",
       "      <td>2020-12-09</td>\n",
       "      <td>53</td>\n",
       "      <td>False</td>\n",
       "      <td>245500</td>\n",
       "      <td>Twin Strings</td>\n",
       "    </tr>\n",
       "    <tr>\n",
       "      <th>4</th>\n",
       "      <td>0Qa9pTZLUC95wJCHGYMIg4</td>\n",
       "      <td>Sajdaa</td>\n",
       "      <td>My Name Is Khan (Original Motion Picture Sound...</td>\n",
       "      <td>2010</td>\n",
       "      <td>66</td>\n",
       "      <td>False</td>\n",
       "      <td>365706</td>\n",
       "      <td>Shankar-Ehsaan-Loy, Rahat Fateh Ali Khan, Shan...</td>\n",
       "    </tr>\n",
       "  </tbody>\n",
       "</table>\n",
       "</div>"
      ],
      "text/plain": [
       "                 track_id             track_name  \\\n",
       "0  1jKXjxMWlq4BhH6f9GtZbu                TORE UP   \n",
       "1  3vkCueOmm7xQDoJ17W1Pm3  My Love Mine All Mine   \n",
       "2  3xgA3KSsd8mt3UjQxNtQy3      Bajrang Baan-Lofi   \n",
       "3  6J4oLY2GEwOsUgEd50IpKy        Baarish Ka Asar   \n",
       "4  0Qa9pTZLUC95wJCHGYMIg4                 Sajdaa   \n",
       "\n",
       "                                               album  album_date  popularity  \\\n",
       "0                                   HARDSTONE PSYCHO  2024-06-14          83   \n",
       "1             The Land Is Inhospitable and So Are We  2023-09-15          89   \n",
       "2                                  Bajrang Baan-Lofi  2023-01-05          72   \n",
       "3                                    Baarish Ka Asar  2020-12-09          53   \n",
       "4  My Name Is Khan (Original Motion Picture Sound...        2010          66   \n",
       "\n",
       "   explicit  duration_ms                                            artists  \n",
       "0      True       126986                                        Don Toliver  \n",
       "1     False       137773                                             Mitski  \n",
       "2     False       218009                                  Rasraj Ji Maharaj  \n",
       "3     False       245500                                       Twin Strings  \n",
       "4     False       365706  Shankar-Ehsaan-Loy, Rahat Fateh Ali Khan, Shan...  "
      ]
     },
     "execution_count": 6,
     "metadata": {},
     "output_type": "execute_result"
    }
   ],
   "source": [
    "top_blobs = read_json_dir(raw_dir, pattern=\"top_tracks_*.json\")\n",
    "records = []\n",
    "for blob in top_blobs:\n",
    "    for item in blob.get(\"items\", []):\n",
    "        records.append({\n",
    "            \"track_id\": item[\"id\"],\n",
    "            \"track_name\": item[\"name\"],\n",
    "            \"album\": item[\"album\"][\"name\"],\n",
    "            \"album_date\": item[\"album\"][\"release_date\"],\n",
    "            \"popularity\": item[\"popularity\"],\n",
    "            \"explicit\": item[\"explicit\"],\n",
    "            \"duration_ms\": item[\"duration_ms\"],\n",
    "            \"artists\": \", \".join(a[\"name\"] for a in item[\"artists\"])\n",
    "        })\n",
    "df_top = pd.DataFrame(records)\n",
    "df_top.to_csv(repo_root/\"data\"/\"interim\"/\"top_tracks.csv\", index=False)\n",
    "logger.info(\"Saved top_tracks.csv (%d rows)\", len(df_top))\n",
    "df_top.head()"
   ]
  },
  {
   "cell_type": "code",
   "execution_count": null,
   "id": "df8b2c95",
   "metadata": {},
   "outputs": [
    {
     "name": "stderr",
     "output_type": "stream",
     "text": [
      "2025-05-05 21:30:39,930 INFO root ▶ Saved recently_played.csv (100 rows)\n"
     ]
    },
    {
     "data": {
      "text/html": [
       "<div>\n",
       "<style scoped>\n",
       "    .dataframe tbody tr th:only-of-type {\n",
       "        vertical-align: middle;\n",
       "    }\n",
       "\n",
       "    .dataframe tbody tr th {\n",
       "        vertical-align: top;\n",
       "    }\n",
       "\n",
       "    .dataframe thead th {\n",
       "        text-align: right;\n",
       "    }\n",
       "</style>\n",
       "<table border=\"1\" class=\"dataframe\">\n",
       "  <thead>\n",
       "    <tr style=\"text-align: right;\">\n",
       "      <th></th>\n",
       "      <th>played_at</th>\n",
       "      <th>track_id</th>\n",
       "      <th>track_name</th>\n",
       "      <th>album</th>\n",
       "      <th>album_date</th>\n",
       "      <th>artists</th>\n",
       "    </tr>\n",
       "  </thead>\n",
       "  <tbody>\n",
       "    <tr>\n",
       "      <th>0</th>\n",
       "      <td>2025-04-28T17:20:59.760Z</td>\n",
       "      <td>4RoKNqyZ9622tcAeNPNv5k</td>\n",
       "      <td>City Boys</td>\n",
       "      <td>I Told Them...</td>\n",
       "      <td>2023-08-24</td>\n",
       "      <td>Burna Boy</td>\n",
       "    </tr>\n",
       "    <tr>\n",
       "      <th>1</th>\n",
       "      <td>2025-04-27T18:48:01.766Z</td>\n",
       "      <td>2p8IUWQDrpjuFltbdgLOag</td>\n",
       "      <td>After Hours</td>\n",
       "      <td>After Hours</td>\n",
       "      <td>2020-03-20</td>\n",
       "      <td>The Weeknd</td>\n",
       "    </tr>\n",
       "    <tr>\n",
       "      <th>2</th>\n",
       "      <td>2025-04-27T18:43:46.393Z</td>\n",
       "      <td>2cYqizR4lgvp4Qu6IQ3qGN</td>\n",
       "      <td>BUTTERFLY EFFECT</td>\n",
       "      <td>ASTROWORLD</td>\n",
       "      <td>2018-08-03</td>\n",
       "      <td>Travis Scott</td>\n",
       "    </tr>\n",
       "    <tr>\n",
       "      <th>3</th>\n",
       "      <td>2025-04-27T18:40:35.254Z</td>\n",
       "      <td>6LyAwkJsHlW7RQ8S1cYAtM</td>\n",
       "      <td>Overdue (with Travis Scott)</td>\n",
       "      <td>NOT ALL HEROES WEAR CAPES (Deluxe)</td>\n",
       "      <td>2018-11-06</td>\n",
       "      <td>Metro Boomin, Travis Scott</td>\n",
       "    </tr>\n",
       "    <tr>\n",
       "      <th>4</th>\n",
       "      <td>2025-04-27T18:37:48.684Z</td>\n",
       "      <td>2xLMifQCjDGFmkHkpNLD9h</td>\n",
       "      <td>SICKO MODE</td>\n",
       "      <td>ASTROWORLD</td>\n",
       "      <td>2018-08-03</td>\n",
       "      <td>Travis Scott</td>\n",
       "    </tr>\n",
       "  </tbody>\n",
       "</table>\n",
       "</div>"
      ],
      "text/plain": [
       "                  played_at                track_id  \\\n",
       "0  2025-04-28T17:20:59.760Z  4RoKNqyZ9622tcAeNPNv5k   \n",
       "1  2025-04-27T18:48:01.766Z  2p8IUWQDrpjuFltbdgLOag   \n",
       "2  2025-04-27T18:43:46.393Z  2cYqizR4lgvp4Qu6IQ3qGN   \n",
       "3  2025-04-27T18:40:35.254Z  6LyAwkJsHlW7RQ8S1cYAtM   \n",
       "4  2025-04-27T18:37:48.684Z  2xLMifQCjDGFmkHkpNLD9h   \n",
       "\n",
       "                    track_name                               album  \\\n",
       "0                    City Boys                      I Told Them...   \n",
       "1                  After Hours                         After Hours   \n",
       "2             BUTTERFLY EFFECT                          ASTROWORLD   \n",
       "3  Overdue (with Travis Scott)  NOT ALL HEROES WEAR CAPES (Deluxe)   \n",
       "4                   SICKO MODE                          ASTROWORLD   \n",
       "\n",
       "   album_date                     artists  \n",
       "0  2023-08-24                   Burna Boy  \n",
       "1  2020-03-20                  The Weeknd  \n",
       "2  2018-08-03                Travis Scott  \n",
       "3  2018-11-06  Metro Boomin, Travis Scott  \n",
       "4  2018-08-03                Travis Scott  "
      ]
     },
     "execution_count": 7,
     "metadata": {},
     "output_type": "execute_result"
    }
   ],
   "source": [
    "recent_blobs = read_json_dir(raw_dir, pattern=\"recently_played_*.json\")\n",
    "records = []\n",
    "for blob in recent_blobs:\n",
    "    for item in blob.get(\"items\", []):\n",
    "        t = item[\"track\"]\n",
    "        records.append({\n",
    "            \"played_at\": item[\"played_at\"],\n",
    "            \"track_id\": t[\"id\"],\n",
    "            \"track_name\": t[\"name\"],\n",
    "            \"album\": t[\"album\"][\"name\"],\n",
    "            \"album_date\": t[\"album\"][\"release_date\"],\n",
    "            \"artists\": \", \".join(a[\"name\"] for a in t[\"artists\"])\n",
    "        })\n",
    "df_recent = pd.DataFrame(records)\n",
    "df_recent.to_csv(repo_root/\"data\"/\"interim\"/\"recently_played.csv\", index=False)\n",
    "logger.info(\"Saved recently_played.csv (%d rows)\", len(df_recent))\n",
    "df_recent.head()"
   ]
  },
  {
   "cell_type": "code",
   "execution_count": null,
   "id": "1017f8de",
   "metadata": {},
   "outputs": [
    {
     "name": "stderr",
     "output_type": "stream",
     "text": [
      "2025-04-29 16:46:03,229 INFO root ▶ Saved saved_tracks.csv (50 rows)\n"
     ]
    },
    {
     "data": {
      "text/html": [
       "<div>\n",
       "<style scoped>\n",
       "    .dataframe tbody tr th:only-of-type {\n",
       "        vertical-align: middle;\n",
       "    }\n",
       "\n",
       "    .dataframe tbody tr th {\n",
       "        vertical-align: top;\n",
       "    }\n",
       "\n",
       "    .dataframe thead th {\n",
       "        text-align: right;\n",
       "    }\n",
       "</style>\n",
       "<table border=\"1\" class=\"dataframe\">\n",
       "  <thead>\n",
       "    <tr style=\"text-align: right;\">\n",
       "      <th></th>\n",
       "      <th>saved_at</th>\n",
       "      <th>track_id</th>\n",
       "      <th>track_name</th>\n",
       "      <th>album</th>\n",
       "      <th>album_date</th>\n",
       "      <th>artists</th>\n",
       "    </tr>\n",
       "  </thead>\n",
       "  <tbody>\n",
       "    <tr>\n",
       "      <th>0</th>\n",
       "      <td>2025-04-28T17:20:58Z</td>\n",
       "      <td>4RoKNqyZ9622tcAeNPNv5k</td>\n",
       "      <td>City Boys</td>\n",
       "      <td>I Told Them...</td>\n",
       "      <td>2023-08-24</td>\n",
       "      <td>Burna Boy</td>\n",
       "    </tr>\n",
       "    <tr>\n",
       "      <th>1</th>\n",
       "      <td>2025-04-28T17:20:15Z</td>\n",
       "      <td>4v5kAh2wWyCSuKuhMJK8u6</td>\n",
       "      <td>Long Way 2 Go</td>\n",
       "      <td>Cassie (U.S. Version)</td>\n",
       "      <td>2006-08-07</td>\n",
       "      <td>Cassie</td>\n",
       "    </tr>\n",
       "    <tr>\n",
       "      <th>2</th>\n",
       "      <td>2025-04-27T16:45:15Z</td>\n",
       "      <td>4LMlVCXHJtCE9abhmn0mYo</td>\n",
       "      <td>Pal Pal</td>\n",
       "      <td>Pal Pal</td>\n",
       "      <td>2025-02-17</td>\n",
       "      <td>Afusic, AliSoomroMusic</td>\n",
       "    </tr>\n",
       "    <tr>\n",
       "      <th>3</th>\n",
       "      <td>2025-04-24T03:22:48Z</td>\n",
       "      <td>2S7RApTsKT0CtYojYq2cKz</td>\n",
       "      <td>L'italiano</td>\n",
       "      <td>L'Italiano</td>\n",
       "      <td>1983-02-01</td>\n",
       "      <td>Toto Cutugno</td>\n",
       "    </tr>\n",
       "    <tr>\n",
       "      <th>4</th>\n",
       "      <td>2025-04-17T19:18:17Z</td>\n",
       "      <td>5fBghXeYCGIEVuExKytoJ9</td>\n",
       "      <td>Fell For You</td>\n",
       "      <td>Sicario</td>\n",
       "      <td>2025-01-17</td>\n",
       "      <td>Shubh</td>\n",
       "    </tr>\n",
       "  </tbody>\n",
       "</table>\n",
       "</div>"
      ],
      "text/plain": [
       "               saved_at                track_id     track_name  \\\n",
       "0  2025-04-28T17:20:58Z  4RoKNqyZ9622tcAeNPNv5k      City Boys   \n",
       "1  2025-04-28T17:20:15Z  4v5kAh2wWyCSuKuhMJK8u6  Long Way 2 Go   \n",
       "2  2025-04-27T16:45:15Z  4LMlVCXHJtCE9abhmn0mYo        Pal Pal   \n",
       "3  2025-04-24T03:22:48Z  2S7RApTsKT0CtYojYq2cKz     L'italiano   \n",
       "4  2025-04-17T19:18:17Z  5fBghXeYCGIEVuExKytoJ9   Fell For You   \n",
       "\n",
       "                   album  album_date                 artists  \n",
       "0         I Told Them...  2023-08-24               Burna Boy  \n",
       "1  Cassie (U.S. Version)  2006-08-07                  Cassie  \n",
       "2                Pal Pal  2025-02-17  Afusic, AliSoomroMusic  \n",
       "3             L'Italiano  1983-02-01            Toto Cutugno  \n",
       "4                Sicario  2025-01-17                   Shubh  "
      ]
     },
     "execution_count": 12,
     "metadata": {},
     "output_type": "execute_result"
    }
   ],
   "source": [
    "saved_blobs = read_json_dir(raw_dir, pattern=\"saved_tracks_*.json\")\n",
    "records = []\n",
    "for blob in saved_blobs:\n",
    "    for item in blob.get(\"items\", []):\n",
    "        t = item[\"track\"]\n",
    "        records.append({\n",
    "            \"saved_at\": item[\"added_at\"],\n",
    "            \"track_id\": t[\"id\"],\n",
    "            \"track_name\": t[\"name\"],\n",
    "            \"album\": t[\"album\"][\"name\"],\n",
    "            \"album_date\": t[\"album\"][\"release_date\"],\n",
    "            \"artists\": \", \".join(a[\"name\"] for a in t[\"artists\"])\n",
    "        })\n",
    "df_saved = pd.DataFrame(records)\n",
    "df_saved.to_csv(repo_root/\"data\"/\"interim\"/\"saved_tracks.csv\", index=False)\n",
    "logger.info(\"Saved saved_tracks.csv (%d rows)\", len(df_saved))\n",
    "df_saved.head()"
   ]
  },
  {
   "cell_type": "code",
   "execution_count": null,
   "id": "d33efe3e",
   "metadata": {},
   "outputs": [
    {
     "name": "stderr",
     "output_type": "stream",
     "text": [
      "2025-05-05 21:30:45,059 INFO root ▶ Saved user_profile.csv to c:\\Users\\choks\\OneDrive\\Desktop\\spotify-wrapped-analysis\\data\\interim\\user_profile.csv\n"
     ]
    },
    {
     "name": "stdout",
     "output_type": "stream",
     "text": [
      "Available profile fields:\n",
      " ['country', 'display_name', 'href', 'id', 'images', 'product', 'type', 'uri', 'explicit_content.filter_enabled', 'explicit_content.filter_locked', 'external_urls.spotify', 'followers.href', 'followers.total']\n",
      "Showing these fields:\n",
      " ['display_name', 'id', 'country', 'followers.total', 'product']\n"
     ]
    },
    {
     "data": {
      "text/html": [
       "<div>\n",
       "<style scoped>\n",
       "    .dataframe tbody tr th:only-of-type {\n",
       "        vertical-align: middle;\n",
       "    }\n",
       "\n",
       "    .dataframe tbody tr th {\n",
       "        vertical-align: top;\n",
       "    }\n",
       "\n",
       "    .dataframe thead th {\n",
       "        text-align: right;\n",
       "    }\n",
       "</style>\n",
       "<table border=\"1\" class=\"dataframe\">\n",
       "  <thead>\n",
       "    <tr style=\"text-align: right;\">\n",
       "      <th></th>\n",
       "      <th>0</th>\n",
       "    </tr>\n",
       "  </thead>\n",
       "  <tbody>\n",
       "    <tr>\n",
       "      <th>display_name</th>\n",
       "      <td>Jeet</td>\n",
       "    </tr>\n",
       "    <tr>\n",
       "      <th>id</th>\n",
       "      <td>31cny4wvswa3zmq25ccg6w2masi4</td>\n",
       "    </tr>\n",
       "    <tr>\n",
       "      <th>country</th>\n",
       "      <td>US</td>\n",
       "    </tr>\n",
       "    <tr>\n",
       "      <th>followers.total</th>\n",
       "      <td>0</td>\n",
       "    </tr>\n",
       "    <tr>\n",
       "      <th>product</th>\n",
       "      <td>free</td>\n",
       "    </tr>\n",
       "  </tbody>\n",
       "</table>\n",
       "</div>"
      ],
      "text/plain": [
       "                                            0\n",
       "display_name                             Jeet\n",
       "id               31cny4wvswa3zmq25ccg6w2masi4\n",
       "country                                    US\n",
       "followers.total                             0\n",
       "product                                  free"
      ]
     },
     "metadata": {},
     "output_type": "display_data"
    }
   ],
   "source": [
    "profile_files = list(raw_dir.glob(\"user_profile_*.json\"))\n",
    "profile = read_json_file(profile_files[-1])\n",
    "df_profile = pd.json_normalize(profile)\n",
    "\n",
    "out_csv = repo_root/\"data\"/\"interim\"/\"user_profile.csv\"\n",
    "df_profile.to_csv(out_csv, index=False)\n",
    "logger.info(f\"Saved user_profile.csv to {out_csv}\")\n",
    "\n",
    "print(\"Available profile fields:\\n\", df_profile.columns.tolist())\n",
    "\n",
    "desired = [\"display_name\",\"id\",\"country\",\"followers.total\",\"product\"]\n",
    "available = [c for c in desired if c in df_profile.columns]\n",
    "print(\"Showing these fields:\\n\", available)\n",
    "display(df_profile[available].T)"
   ]
  },
  {
   "cell_type": "code",
   "execution_count": null,
   "id": "784e449f",
   "metadata": {},
   "outputs": [
    {
     "name": "stderr",
     "output_type": "stream",
     "text": [
      "2025-04-29 16:50:38,053 INFO root ▶ Saved user_playlists.csv (2 rows) to c:\\Users\\choks\\OneDrive\\Desktop\\spotify-wrapped-analysis\\data\\interim\\user_playlists.csv\n"
     ]
    },
    {
     "data": {
      "text/html": [
       "<div>\n",
       "<style scoped>\n",
       "    .dataframe tbody tr th:only-of-type {\n",
       "        vertical-align: middle;\n",
       "    }\n",
       "\n",
       "    .dataframe tbody tr th {\n",
       "        vertical-align: top;\n",
       "    }\n",
       "\n",
       "    .dataframe thead th {\n",
       "        text-align: right;\n",
       "    }\n",
       "</style>\n",
       "<table border=\"1\" class=\"dataframe\">\n",
       "  <thead>\n",
       "    <tr style=\"text-align: right;\">\n",
       "      <th></th>\n",
       "      <th>playlist_id</th>\n",
       "      <th>name</th>\n",
       "      <th>owner</th>\n",
       "      <th>public</th>\n",
       "      <th>tracks_total</th>\n",
       "    </tr>\n",
       "  </thead>\n",
       "  <tbody>\n",
       "    <tr>\n",
       "      <th>0</th>\n",
       "      <td>5R402c0QrsyaHUwZFwEmi9</td>\n",
       "      <td>Bhagwan</td>\n",
       "      <td>Jeet</td>\n",
       "      <td>True</td>\n",
       "      <td>5</td>\n",
       "    </tr>\n",
       "    <tr>\n",
       "      <th>1</th>\n",
       "      <td>7oBzvnRfjDOY3ZN78ejrME</td>\n",
       "      <td>SEXXX</td>\n",
       "      <td>Jeet</td>\n",
       "      <td>False</td>\n",
       "      <td>2</td>\n",
       "    </tr>\n",
       "  </tbody>\n",
       "</table>\n",
       "</div>"
      ],
      "text/plain": [
       "              playlist_id     name owner  public  tracks_total\n",
       "0  5R402c0QrsyaHUwZFwEmi9  Bhagwan  Jeet    True             5\n",
       "1  7oBzvnRfjDOY3ZN78ejrME    SEXXX  Jeet   False             2"
      ]
     },
     "execution_count": 17,
     "metadata": {},
     "output_type": "execute_result"
    }
   ],
   "source": [
    "pl_files = list(raw_dir.glob(\"user_playlists_*.json\"))\n",
    "pl_blob = read_json_file(pl_files[-1])\n",
    "\n",
    "records = []\n",
    "for item in pl_blob.get(\"items\", []):\n",
    "    records.append({\n",
    "        \"playlist_id\":   item.get(\"id\"),\n",
    "        \"name\":          item.get(\"name\"),\n",
    "        \"owner\":         item.get(\"owner\", {}).get(\"display_name\"),\n",
    "        \"public\":        item.get(\"public\"),\n",
    "        \"tracks_total\":  item.get(\"tracks\", {}).get(\"total\")\n",
    "    })\n",
    "\n",
    "df_playlists = pd.DataFrame(records)\n",
    "out_path = repo_root/\"data\"/\"interim\"/\"user_playlists.csv\"\n",
    "df_playlists.to_csv(out_path, index=False)\n",
    "logger.info(f\"Saved user_playlists.csv ({len(df_playlists)} rows) to {out_path}\")\n",
    "df_playlists.head()"
   ]
  },
  {
   "cell_type": "markdown",
   "id": "f834b913",
   "metadata": {},
   "source": [
    "---\n",
    "\n",
    "**All endpoints ingested!**  \n",
    "Check your `data/interim/` folder for:\n",
    "- `top_tracks.csv`\n",
    "- `recently_played.csv`\n",
    "- `saved_tracks.csv`\n",
    "- `user_profile.csv`\n",
    "- `user_playlists.csv`\n",
    "- `playlist_tracks_top3.csv`\n",
    "\n",
    "You’re now ready for feature engineering and EDA on your complete user history.\n"
   ]
  },
  {
   "cell_type": "code",
   "execution_count": null,
   "id": "ccfb6131",
   "metadata": {},
   "outputs": [],
   "source": []
  },
  {
   "cell_type": "code",
   "execution_count": null,
   "id": "21aa9fb0",
   "metadata": {},
   "outputs": [],
   "source": []
  },
  {
   "cell_type": "code",
   "execution_count": null,
   "id": "8b7ab26d",
   "metadata": {},
   "outputs": [],
   "source": []
  }
 ],
 "metadata": {
  "kernelspec": {
   "display_name": "venv",
   "language": "python",
   "name": "python3"
  },
  "language_info": {
   "codemirror_mode": {
    "name": "ipython",
    "version": 3
   },
   "file_extension": ".py",
   "mimetype": "text/x-python",
   "name": "python",
   "nbconvert_exporter": "python",
   "pygments_lexer": "ipython3",
   "version": "3.11.0"
  }
 },
 "nbformat": 4,
 "nbformat_minor": 5
}
